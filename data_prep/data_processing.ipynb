{
 "cells": [
  {
   "cell_type": "code",
   "execution_count": null,
   "id": "b9d629fc",
   "metadata": {},
   "outputs": [
    {
     "ename": "",
     "evalue": "",
     "output_type": "error",
     "traceback": [
      "\u001b[1;31mRunning cells with 'Python 3.9.2 ('.open_ai')' requires ipykernel package.\n",
      "\u001b[1;31mRun the following command to install 'ipykernel' into the Python environment. \n",
      "\u001b[1;31mCommand: 'conda install -n .open_ai ipykernel --update-deps --force-reinstall'"
     ]
    }
   ],
   "source": [
    "import pandas as pd"
   ]
  },
  {
   "cell_type": "code",
   "execution_count": null,
   "id": "3f5db402",
   "metadata": {},
   "outputs": [
    {
     "ename": "",
     "evalue": "",
     "output_type": "error",
     "traceback": [
      "\u001b[1;31mRunning cells with 'Python 3.9.2 ('.open_ai')' requires ipykernel package.\n",
      "\u001b[1;31mRun the following command to install 'ipykernel' into the Python environment. \n",
      "\u001b[1;31mCommand: 'conda install -n .open_ai ipykernel --update-deps --force-reinstall'"
     ]
    }
   ],
   "source": [
    "df = pd.read_csv('')"
   ]
  },
  {
   "cell_type": "code",
   "execution_count": 1,
   "id": "4e922d3c",
   "metadata": {},
   "outputs": [
    {
     "name": "stdout",
     "output_type": "stream",
     "text": [
      "{'labels': ['2010', '2011', '2012', '2013', '2014', '2015', '2016', '2017', '2018', '2019', '2020', '2021'], 'values': [347281.108599036, 357164.129203444, 362576.51395351195, 367143.053957388, 370164.63728685095, 368087.792373102, 367358.274453194, 373584.65754200297, 381289.436725764, 381536.116002269, 361909.968731441, 380874.15337320295]}\n",
      "{'renewable': {'labels': ['2000', '2001', '2002', '2003', '2004', '2005', '2006', '2007', '2008', '2009', '2010', '2011', '2012', '2013', '2014', '2015', '2016', '2017', '2018', '2019', '2020'], 'values': [120257439.2143567, 121250602.571417, 125835765.27341701, 130206193.17641701, 135760891.9123047, 141158011.3425107, 146349423.4272768, 152461076.0733458, 155867326.8988108, 156089953.04070678, 165781600.4476386, 171199248.54092962, 175542736.9831332, 180759547.0959541, 184764000.18295872, 188540021.9097914, 193990067.31953448, 199651070.2852374, 207063949.5988404, 210314667.7598194, 212490440.76309842]}, 'non_renewable': {'labels': ['2000', '2001', '2002', '2003', '2004', '2005', '2006', '2007', '2008', '2009', '2010', '2011', '2012', '2013', '2014', '2015', '2016', '2017', '2018', '2019', '2020'], 'values': [120257439.2143567, 121250602.571417, 125835765.27341701, 130206193.17641701, 135760891.9123047, 141158011.3425107, 146349423.4272768, 152461076.0733458, 155867326.8988108, 156089953.04070678, 165781600.4476386, 171199248.54092962, 175542736.9831332, 180759547.0959541, 184764000.18295872, 188540021.9097914, 193990067.31953448, 199651070.2852374, 207063949.5988404, 210314667.7598194, 212490440.76309842]}}\n",
      "{'recycling_rate': {'labels': [2015, 2016, 2017, 2018, 2019, 2020], 'values': [44.1, 45.1, 45.5, 45.0, 46.0, 44.4]}}\n"
     ]
    }
   ],
   "source": [
    "import pandas as pd\n",
    "\n",
    "# First, processing and preparing the emissions dataset:\n",
    "\n",
    "# load data\n",
    "df = pd.read_csv('/Users/jamiemccay/Desktop/Personal/Projects/OuterHeaven/.vscode/data/annual_air_emissions.csv')\n",
    "\n",
    "# filter data \n",
    "df = df[df['Gas_Type'] == 'Carbon dioxide']\n",
    "cols_to_select = ['F{}'.format(year) for year in range(2010, 2022)]\n",
    "df = df[cols_to_select]\n",
    "\n",
    "# generate output\n",
    "output = {\n",
    "    'labels': [],\n",
    "    'values': []\n",
    "}\n",
    "for col in df.columns.tolist():\n",
    "    output['labels'].append(col[1:])\n",
    "    output['values'].append(df[col].sum())\n",
    "    \n",
    "print(output)\n",
    "\n",
    "# Next, the energy transition dataset:\n",
    "\n",
    "# load data\n",
    "df = pd.read_csv('/Users/jamiemccay/Desktop/Personal/Projects/OuterHeaven/.vscode/data/energy_transition.csv')\n",
    "# df.head()\n",
    "\n",
    "# filter data\n",
    "renewable_df = df[df['Energy_Type'] == \"Total Renewable\"]\n",
    "non_renewable_df = df[df['Energy_Type'] == \"Total Non-Renewable\"]\n",
    "\n",
    "cols_to_select = ['F{}'.format(year) for year in range(2000, 2021)]\n",
    "renewable_df = renewable_df[cols_to_select]\n",
    "non_renewable_df = non_renewable_df[cols_to_select]\n",
    "\n",
    "# generate output\n",
    "output = {\n",
    "    \"renewable\": {\n",
    "        'labels': [],\n",
    "        'values': []\n",
    "    },\n",
    "    \"non_renewable\": {\n",
    "        'labels': [],\n",
    "        'values': []\n",
    "    },\n",
    "}\n",
    "\n",
    "for col in renewable_df.columns.tolist():\n",
    "    output['renewable']['labels'].append(col[1:])\n",
    "    output['renewable']['values'].append(df[col].sum())\n",
    "    \n",
    "for col in non_renewable_df.columns.tolist():\n",
    "    output['non_renewable']['labels'].append(col[1:])\n",
    "    output['non_renewable']['values'].append(df[col].sum())\n",
    "\n",
    "print(output)\n",
    "\n",
    "# Next, process the stats on UK household waste:\n",
    "\n",
    "# load dataset\n",
    "df = pd.read_csv(\"/Users/jamiemccay/Desktop/Personal/Projects/OuterHeaven/.vscode/data/uk_waste_stats.csv\")\n",
    "# df.head()\n",
    "\n",
    "# prepare data\n",
    "df = df[df['Measure'] == 'Recycling rate']\n",
    "df = df[['Year','Measure','UK']]\n",
    "df.head()\n",
    "\n",
    "# generate output\n",
    "output = {\n",
    "    'recycling_rate': {\n",
    "        'labels': [],\n",
    "        'values': []\n",
    "    }\n",
    "}\n",
    "for index, row in df.iterrows():\n",
    "    output['recycling_rate']['labels'].append(row['Year'])\n",
    "    output['recycling_rate']['values'].append(row['UK'])\n",
    "    \n",
    "print(output)\n",
    "\n",
    "\n"
   ]
  }
 ],
 "metadata": {
  "kernelspec": {
   "display_name": "Python 3.8.8 ('OuterHeaven': venv)",
   "language": "python",
   "name": "python3"
  },
  "language_info": {
   "codemirror_mode": {
    "name": "ipython",
    "version": 3
   },
   "file_extension": ".py",
   "mimetype": "text/x-python",
   "name": "python",
   "nbconvert_exporter": "python",
   "pygments_lexer": "ipython3",
   "version": "3.8.8"
  },
  "vscode": {
   "interpreter": {
    "hash": "33f526d78b5122dbd559461301e8a41a77748acdd9ee0880072ad17f763ef7e0"
   }
  }
 },
 "nbformat": 4,
 "nbformat_minor": 5
}
